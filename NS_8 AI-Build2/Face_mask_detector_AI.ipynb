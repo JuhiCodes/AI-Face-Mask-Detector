{
  "cells": [
    {
      "cell_type": "markdown",
      "metadata": {
        "id": "tpOy2QSUO4E0"
      },
      "source": [
        "**AI FACE MASK DETECTOR- KFOLD**\n",
        "\n",
        "\n",
        "**There are 5 classes:No mask, cloth mask, surgical mask, FFP2, N95 with a valve**"
      ]
    },
    {
      "cell_type": "code",
      "execution_count": 3,
      "metadata": {
        "id": "dVl2LhOMGHQh"
      },
      "outputs": [],
      "source": [
        "from google.colab import drive\n",
        "import os\n",
        "import torch.nn as nn\n",
        "from torch.utils.data import DataLoader\n",
        "from sklearn.model_selection import train_test_split\n",
        "import matplotlib.pyplot as plt\n",
        "import matplotlib\n",
        "from tqdm import tqdm\n",
        "from PIL import Image\n",
        "import seaborn as sns\n",
        "from torch.utils.data.dataset import Dataset\n",
        "from torchvision.transforms import ToPILImage, Compose, ToTensor, Resize, Normalize\n",
        "from torchvision import transforms\n",
        "import cv2\n",
        "from torch.utils.data.dataset import Dataset, Subset\n",
        "from sklearn.model_selection import KFold\n",
        "from sklearn.metrics import accuracy_score\n",
        "import torch\n",
        "import numpy as np\n",
        "from matplotlib import pyplot as plt\n",
        "from google.colab.patches import cv2_imshow\n",
        "import warnings\n",
        "from sklearn.metrics import plot_confusion_matrix\n",
        "from sklearn.metrics import classification_report, confusion_matrix\n"
      ]
    },
    {
      "cell_type": "markdown",
      "metadata": {
        "id": "LtlYDtturpvm"
      },
      "source": [
        "Mounting the drive and assigning the paths"
      ]
    },
    {
      "cell_type": "code",
      "execution_count": 4,
      "metadata": {
        "colab": {
          "base_uri": "https://localhost:8080/"
        },
        "id": "uZGYvQTvplef",
        "outputId": "1fa83931-3787-44d1-e631-2577354164cd"
      },
      "outputs": [
        {
          "output_type": "stream",
          "name": "stdout",
          "text": [
            "Mounted at /content/drive\n",
            "Mounted at /content/drive\n"
          ]
        }
      ],
      "source": [
        "\n",
        "from google.colab import drive\n",
        "drive.mount('/content/drive')\n",
        "drive.mount('/content/drive', force_remount=True)\n",
        "root_directory = \"/content/drive/MyDrive/Data\"\n",
        "saved_converted_image = \"/content/drive/MyDrive/Colab Notebooks.npy\"\n",
        "saved_model = \"/content/drive/MyDrive/FINAL_DATASET/saved_model\"\n",
        "sample_image_path = \"/content/drive/MyDrive/FINAL_DATASET/sample_images\""
      ]
    },
    {
      "cell_type": "markdown",
      "metadata": {
        "id": "OFV6jMVNrvKs"
      },
      "source": [
        "Function for mapping labels with respective images"
      ]
    },
    {
      "cell_type": "code",
      "execution_count": 5,
      "metadata": {
        "id": "6_wubfuUHss0"
      },
      "outputs": [],
      "source": [
        "\n",
        "def map_image_with_label(data_class):\n",
        "  label_name = [i for i in range(len(data_class))]\n",
        "  #print(label_name)\n",
        "\n",
        "  label_dictionary = dict(zip(data_class,label_name))\n",
        "  print(label_dictionary)\n",
        "  \n",
        "  return label_dictionary "
      ]
    },
    {
      "cell_type": "markdown",
      "metadata": {
        "id": "0aEAHn0-r5vc"
      },
      "source": [
        "Function for creating numpy image Array"
      ]
    },
    {
      "cell_type": "code",
      "execution_count": 6,
      "metadata": {
        "id": "gZzy8Bp0IImm"
      },
      "outputs": [],
      "source": [
        "\n",
        "def create_image_numpy_array(data_class, root_directory, label_dict):\n",
        "  numpy_array_of_images = []\n",
        "  for label in data_class:\n",
        "    data_path = os.path.join(root_directory, label)\n",
        "    image_names = os.listdir(data_path)\n",
        "    print(label + \"-->\")\n",
        "    for image in tqdm(image_names):\n",
        "      image_path = os.path.join(data_path, image)\n",
        "      images = cv2.imread(image_path) \n",
        "      try:\n",
        "        imag = cv2.cvtColor(images, cv2.COLOR_BGR2RGB)\n",
        "        img = cv2.resize(imag, (100,100))\n",
        "        \n",
        "        numpy_array_of_images.append((img, label_dict[label]))\n",
        "      except Exception as e:\n",
        "        print(e)\n",
        "\n",
        "  return numpy_array_of_images"
      ]
    },
    {
      "cell_type": "markdown",
      "metadata": {
        "id": "6eRVQNausAl1"
      },
      "source": [
        "Function to shuffle the npy data and save it to the same file"
      ]
    },
    {
      "cell_type": "code",
      "execution_count": 7,
      "metadata": {
        "id": "Ys-La5Xipz4Q"
      },
      "outputs": [],
      "source": [
        "\n",
        "def shuffle_and_save(data, saved_converted_image):\n",
        "  np.random.shuffle(data)  \n",
        "  np.save(saved_converted_image, data)\n"
      ]
    },
    {
      "cell_type": "markdown",
      "metadata": {
        "id": "FfjMnY1gsD-g"
      },
      "source": [
        "Function for transforming and normalizing the dataset"
      ]
    },
    {
      "cell_type": "code",
      "execution_count": 8,
      "metadata": {
        "id": "Mb7uCt33n19O"
      },
      "outputs": [],
      "source": [
        "\n",
        "class NormalizingDataset(Dataset):\n",
        "  def __init__(self, data):\n",
        "    self.data = data\n",
        "    self.transformation = transforms.Compose([\n",
        "                                   transforms.ToPILImage(),\n",
        "                                   transforms.ToTensor(),\n",
        "                                   Normalize((0.5, 0.5, 0.5),(0.5, 0.5, 0.5)),\n",
        "                                   transforms.Resize((64,64))#image size changed\n",
        "                                   ])\n",
        "  \n",
        "  def __getitem__(self, id):\n",
        "    return self.transformation(self.data[id][0]), torch.tensor(self.data[id][1])\n",
        "  \n",
        "  def __len__(self):\n",
        "    return self.data.__len__()\n"
      ]
    },
    {
      "cell_type": "code",
      "execution_count": 9,
      "metadata": {
        "id": "-mfqr-lU6evd"
      },
      "outputs": [],
      "source": [
        "def dataset_loader(save_dir):\n",
        "  data = np.load(save_dir, allow_pickle=True)\n",
        "  loaded_dataset = NormalizingDataset(data)\n",
        "  return loaded_dataset"
      ]
    },
    {
      "cell_type": "markdown",
      "metadata": {
        "id": "HOZhbA_csH17"
      },
      "source": [
        "## **Convolutional neural network architecture**"
      ]
    },
    {
      "cell_type": "code",
      "execution_count": 38,
      "metadata": {
        "id": "ujVIxWgER3ea"
      },
      "outputs": [],
      "source": [
        "\n",
        "class CNN(nn.Module):\n",
        "  def __init__(self):\n",
        "    super(CNN, self).__init__()\n",
        "    self.conv_layer = nn.Sequential(\n",
        "        \n",
        "        #Layer 1\n",
        "        nn.Conv2d(in_channels=3, out_channels=64, kernel_size=3, stride=1, padding=1),\n",
        "        nn.BatchNorm2d(64),\n",
        "        nn.ReLU(inplace=True),\n",
        "        nn.MaxPool2d(kernel_size=2, stride=2),\n",
        "        nn.Dropout2d(p=0.02),\n",
        "       \n",
        "        #Layer 2\n",
        "        nn.Conv2d(in_channels=64, out_channels=128, kernel_size=3, stride=1, padding=1),\n",
        "        nn.BatchNorm2d(128),\n",
        "        nn.ReLU(inplace=True),\n",
        "        nn.MaxPool2d(kernel_size=2, stride=2),\n",
        "        nn.Dropout2d(p=0.02),\n",
        "\n",
        "\n",
        "        #Layer 3\n",
        "        nn.Conv2d(in_channels=128, out_channels=128, kernel_size=3, stride=1, padding=1),\n",
        "        nn.BatchNorm2d(128),\n",
        "        nn.ReLU(inplace=True),\n",
        "        nn.MaxPool2d(kernel_size=2, stride=2),\n",
        "        nn.Dropout2d(p=0.02),\n",
        "       \n",
        "        #Layer 4\n",
        "        nn.Conv2d(in_channels=128, out_channels=256, kernel_size=3, stride=1, padding=1),\n",
        "        nn.BatchNorm2d(256),\n",
        "        nn.ReLU(inplace=True),\n",
        "        nn.MaxPool2d(kernel_size=2, stride=2),\n",
        "        nn.Dropout2d(p=0.02),\n",
        "\n",
        "        #Layer 5\n",
        "        nn.Conv2d(in_channels=256, out_channels=512, kernel_size=3, stride=1, padding=1),\n",
        "        nn.BatchNorm2d(512),\n",
        "        nn.ReLU(inplace=True),\n",
        "        nn.MaxPool2d(kernel_size=2, stride=2),\n",
        "        nn.Dropout2d(p=0.05),\n",
        "    )\n",
        "    \n",
        "    #Fully Connected Layer\n",
        "    self.linear_layers = nn.Sequential(\n",
        "        nn.Dropout(p=0.1),\n",
        "        nn.Linear(512 * 6 * 6, 128),\n",
        "        nn.ReLU(inplace=True),\n",
        "        nn.Linear(128, 64),\n",
        "        nn.ReLU(inplace=True),\n",
        "        nn.Dropout(p=0.1),\n",
        "        nn.Linear(64,5)\n",
        "    )\n",
        "\n",
        "  def forward(self, x):\n",
        "    x = self.conv_layer(x)\n",
        "    #print(x.shape)\n",
        "    x = x.view(x.size(0), -1)\n",
        "    x = self.linear_layers(x)\n",
        "    return x"
      ]
    },
    {
      "cell_type": "markdown",
      "metadata": {
        "id": "w4OFqiPLsXhO"
      },
      "source": [
        "Function for executing epochs while training the model"
      ]
    },
    {
      "cell_type": "code",
      "execution_count": 12,
      "metadata": {
        "id": "m6YlRLGNakuK"
      },
      "outputs": [],
      "source": [
        "\n",
        "def looping_through_epoch(train_loader,model,loss_criteria,training_loss_list,optimizer,training_accuracy_list,epoch_number):\n",
        "  for epoch in range(epoch_number):\n",
        "    for i, (images, labels) in enumerate(train_loader):\n",
        "      outputs = model(images)\n",
        "\n",
        "      #Forward Pass\n",
        "      training_loss = loss_criteria(outputs, labels)\n",
        "      training_loss_list.append(training_loss.item())\n",
        "\n",
        "      #Backpropogation and Optimization\n",
        "      optimizer.zero_grad()\n",
        "      training_loss.backward()\n",
        "      optimizer.step()\n",
        "\n",
        "      #Training Accuracy\n",
        "      total = labels.size(0)\n",
        "      _, predicted = torch.max(outputs.data, 1)\n",
        "      correct = (predicted == labels).sum().item()\n",
        "      training_accuracy_list.append(correct / total)\n",
        "\n",
        "    print('Epoch {}/{}, Loss--> {:.4f}, Accuracy--> {:.2f}%'\n",
        "        .format(epoch + 1, epoch_number, training_loss.item(),\n",
        "        (correct / total) * 100))\n",
        "\n"
      ]
    },
    {
      "cell_type": "markdown",
      "metadata": {
        "id": "B3VMrIO9sd5V"
      },
      "source": [
        "Function for training the model on the dataset based on the specified epoch number"
      ]
    },
    {
      "cell_type": "code",
      "execution_count": 13,
      "metadata": {
        "id": "TQxrh1IRqUp7"
      },
      "outputs": [],
      "source": [
        "\n",
        "def train_model(train_loader, test_loader, epoch_number):\n",
        "  model = CNN()\n",
        "  loss_criteria = nn.CrossEntropyLoss()\n",
        "  optimizer = torch.optim.Adam(model.parameters(), lr=0.001)\n",
        "  training_accuracy_list = []\n",
        "  training_loss_list = []\n",
        "  looping_through_epoch(train_loader,model,loss_criteria,training_loss_list,optimizer,training_accuracy_list,epoch_number)\n",
        "  return model\n",
        "  "
      ]
    },
    {
      "cell_type": "markdown",
      "metadata": {
        "id": "vRfFNOpOsiUa"
      },
      "source": [
        "Function for creating confusion matrix"
      ]
    },
    {
      "cell_type": "code",
      "execution_count": 14,
      "metadata": {
        "id": "gIn1x0-9XiWV"
      },
      "outputs": [],
      "source": [
        "\n",
        "def create_confusion_matrix(model, title, load_data, classes):\n",
        "  model.eval()\n",
        "  predictions = []\n",
        "  accurate_list = []\n",
        "  with torch.no_grad():\n",
        "    for images, labels in load_data:\n",
        "      outputs = model(images)\n",
        "      _, predicted = torch.max(model(images), 1)\n",
        "      predictions.extend(predicted.detach().cpu().numpy())\n",
        "      accurate_list.extend(labels.detach().cpu().numpy())\n",
        "  \n",
        "  print(\"{} Classification Report: \".format(title))\n",
        "  print(classification_report(predictions, accurate_list))\n",
        "  print(\"{} Confusion Matrix: \".format(title))\n",
        "  \n",
        "  confusion_matrix_data = confusion_matrix(accurate_list, predictions)\n",
        " \n",
        "  #Plotting confusion matrix\n",
        "  plot_confusion_matrix(confusion_matrix_data)"
      ]
    },
    {
      "cell_type": "markdown",
      "metadata": {
        "id": "13DLl7F6sppI"
      },
      "source": [
        "Function for plotting confusion matrix"
      ]
    },
    {
      "cell_type": "code",
      "execution_count": 15,
      "metadata": {
        "id": "h7AFpFATneu4"
      },
      "outputs": [],
      "source": [
        "\n",
        "def plot_confusion_matrix(confusion_matrix_data):\n",
        "  conf_matrix = sns.heatmap(confusion_matrix_data, annot=True, fmt='g',cmap=\"Blues\")\n",
        "\n",
        "  conf_matrix.set_title('Confusion Matrix');\n",
        "  conf_matrix.set_xlabel('Actual category')\n",
        "  conf_matrix.set_ylabel('Predicted category');\n",
        "\n",
        "  conf_matrix.xaxis.set_ticklabels(['surgical_mask', 'cloth_mask', 'ffp2_mask','no_mask', 'N95_with_mask'])\n",
        "  conf_matrix.yaxis.set_ticklabels(['surgical_mask', 'cloth_mask', 'ffp2_mask','no_mask', 'N95_with_mask'])\n",
        "\n",
        "  plt.setp(conf_matrix.get_xticklabels(), rotation=45, ha=\"right\",\n",
        "         rotation_mode=\"anchor\")\n",
        "  plt.setp(conf_matrix.get_yticklabels(), rotation=60, ha=\"right\",\n",
        "         rotation_mode=\"anchor\")\n",
        "  plt.show()\n",
        "\n"
      ]
    },
    {
      "cell_type": "markdown",
      "metadata": {
        "id": "g0v16gYts0PG"
      },
      "source": [
        "Function for predicting the class for the given image"
      ]
    },
    {
      "cell_type": "code",
      "execution_count": 16,
      "metadata": {
        "id": "aw_euzuTAphl"
      },
      "outputs": [],
      "source": [
        "\n",
        "def predict_image(image_path, model, data_classes):\n",
        "  image_names = os.listdir(image_path)\n",
        "  label = {i for i in range(len(data_classes))}\n",
        "  label_dict = dict(zip(label,data_classes))\n",
        "  for images in image_names:\n",
        "    print(\"\\n\")\n",
        "    loader = transforms.Compose([  \n",
        "                                   transforms.ToTensor(),\n",
        "                                  Normalize((0.5, 0.5, 0.5),(0.5, 0.5, 0.5)),\n",
        "                                   transforms.Resize((64,64))  #image resize                               \n",
        "                              ])\n",
        "    image_name = os.path.join(sample_image_path, images)\n",
        "    img = cv2.imread(image_name)\n",
        "    img = cv2.resize(img,(0,0),fx=1,fy=1)\n",
        "    cv2_imshow(img)\n",
        "    image = Image.open(image_name)\n",
        "    image = loader(image).float()\n",
        "    image = image.unsqueeze(0)\n",
        "    \n",
        "    _, predicted = torch.max(model(image), dim=1)\n",
        "\n",
        "    pre = predicted[0]\n",
        "    key = pre.item()\n",
        "    print(label_dict[key])\n",
        "    "
      ]
    },
    {
      "cell_type": "markdown",
      "source": [
        "**Here we have used gender and age based classification**\n",
        "\n",
        "Classification on basis of gender - Male and Female\n",
        "\n",
        "\n"
      ],
      "metadata": {
        "id": "siNTxAerrNKy"
      }
    },
    {
      "cell_type": "code",
      "execution_count": 17,
      "metadata": {
        "id": "K2_O9XuMaRJI"
      },
      "outputs": [],
      "source": [
        "\n",
        "female_cloth_mask_dir =\"/content/drive/My Drive/FINAL_DATASET/Test_categories/gender/female/Cloth\"\n",
        "female_surgical_dir =\"/content/drive/My Drive/FINAL_DATASET/Test_categories/gender/female/Surgical\"\n",
        "female_ffp2_dir =\"/content/drive/My Drive/FINAL_DATASET/Test_categories/gender/female/FFP2\"\n",
        "female_nomask_dir =\"/content/drive/My Drive/FINAL_DATASET/Test_categories/gender/female/No_Mask\"\n",
        "female_ffp2valve_dir =\"/content/drive/My Drive/FINAL_DATASET/Test_categories/gender/female/N95_with_valve\"\n",
        "\n",
        "male_cloth_mask_dir =\"/content/drive/My Drive/FINAL_DATASET/Test_categories/gender/male/Cloth\"\n",
        "male_surgical_dir =\"/content/drive/My Drive/FINAL_DATASET/Test_categories/gender/male/Surgical\"\n",
        "male_ffp2_dir =\"/content/drive/My Drive/FINAL_DATASET/Test_categories/gender/male/FFP2\"\n",
        "male_nomask_dir =\"/content/drive/My Drive/FINAL_DATASET/Test_categories/gender/male/No_Mask\"\n",
        "male_ffp2valve_dir =\"/content/drive/My Drive/FINAL_DATASET/Test_categories/gender/male/N95_with_valve\"\n"
      ]
    },
    {
      "cell_type": "markdown",
      "source": [
        "Classification on basis of age - Children, Young , Old"
      ],
      "metadata": {
        "id": "i3VXeXqergC7"
      }
    },
    {
      "cell_type": "code",
      "execution_count": 18,
      "metadata": {
        "id": "u4kzP4CqonYP"
      },
      "outputs": [],
      "source": [
        "\n",
        "young_cloth_mask_dir =\"/content/drive/My Drive/FINAL_DATASET/Test_categories/age/young/Cloth\"\n",
        "young_surgical_dir =\"/content/drive/My Drive/FINAL_DATASET/Test_categories/age/young/Surgical\"\n",
        "young_ffp2_dir =\"/content/drive/My Drive/FINAL_DATASET/Test_categories/age/young/FFP2\"\n",
        "young_nomask_dir =\"/content/drive/My Drive/FINAL_DATASET/Test_categories/age/young/No_Mask\"\n",
        "young_ffp2valve_dir =\"/content/drive/My Drive/FINAL_DATASET/Test_categories/age/young/N95_with_valve\"\n",
        "\n",
        "children_cloth_mask_dir =\"/content/drive/My Drive/FINAL_DATASET/Test_categories/age/children/Cloth\"\n",
        "children_surgical_dir =\"/content/drive/My Drive/FINAL_DATASET/Test_categories/age/children/Surgical\"\n",
        "children_ffp2_dir =\"/content/drive/My Drive/FINAL_DATASET/Test_categories/age/children/FFP2\"\n",
        "children_nomask_dir =\"/content/drive/My Drive/FINAL_DATASET/Test_categories/age/children/No_Mask\"\n",
        "children_ffp2valve_dir =\"/content/drive/My Drive/FINAL_DATASET/Test_categories/age/children/N95_with_valve\"\n",
        "\n",
        "old_cloth_mask_dir =\"/content/drive/My Drive/FINAL_DATASET/Test_categories/age/old/Cloth\"\n",
        "old_surgical_dir =\"/content/drive/My Drive/FINAL_DATASET/Test_categories/age/old/Surgical\"\n",
        "old_ffp2_dir =\"/content/drive/My Drive/FINAL_DATASET/Test_categories/age/old/FFP2\"\n",
        "old_nomask_dir =\"/content/drive/My Drive/FINAL_DATASET/Test_categories/age/old/No_Mask\"\n",
        "old_ffp2valve_dir =\"/content/drive/My Drive/FINAL_DATASET/Test_categories/age/old/N95_with_valve\"\n"
      ]
    },
    {
      "cell_type": "markdown",
      "source": [
        "**Function for loading data**"
      ],
      "metadata": {
        "id": "J4lDyaOkrnpm"
      }
    },
    {
      "cell_type": "code",
      "execution_count": 24,
      "metadata": {
        "id": "g0VG9OFWb110"
      },
      "outputs": [],
      "source": [
        "def load_data(image_data, path, class_label):\n",
        "  \n",
        "  image_names = os.listdir(path)\n",
        "  print(\"Image Labels\", class_label)\n",
        "  for image in tqdm(image_names):\n",
        "    image_path = os.path.join(path, image)\n",
        "    images = cv2.imread(image_path) \n",
        "    try:\n",
        "      imag = cv2.cvtColor(images, cv2.COLOR_BGR2RGB)\n",
        "      img = cv2.resize(imag, (100,100))\n",
        "          \n",
        "\n",
        "      image_data.append((img, class_label))\n",
        "        \n",
        "    except Exception as e:\n",
        "      print(e)\n",
        "  return image_data"
      ]
    },
    {
      "cell_type": "markdown",
      "source": [
        "Loading the data belonging to age and gender categories and assigning classes"
      ],
      "metadata": {
        "id": "EZblWnRVwlBr"
      }
    },
    {
      "cell_type": "code",
      "execution_count": 37,
      "metadata": {
        "colab": {
          "base_uri": "https://localhost:8080/"
        },
        "id": "XusmCQrgWSjn",
        "outputId": "f1463833-dce2-4b7b-9597-0f02178594f1"
      },
      "outputs": [
        {
          "output_type": "stream",
          "name": "stdout",
          "text": [
            "************ Gender -- Female ************ \n",
            "Image Labels 0\n"
          ]
        },
        {
          "output_type": "stream",
          "name": "stderr",
          "text": [
            "100%|██████████| 27/27 [00:00<00:00, 163.87it/s]\n"
          ]
        },
        {
          "output_type": "stream",
          "name": "stdout",
          "text": [
            "Image Labels 1\n"
          ]
        },
        {
          "output_type": "stream",
          "name": "stderr",
          "text": [
            "100%|██████████| 24/24 [00:00<00:00, 102.59it/s]\n"
          ]
        },
        {
          "output_type": "stream",
          "name": "stdout",
          "text": [
            "Image Labels 2\n"
          ]
        },
        {
          "output_type": "stream",
          "name": "stderr",
          "text": [
            "100%|██████████| 25/25 [00:00<00:00, 79.12it/s]\n"
          ]
        },
        {
          "output_type": "stream",
          "name": "stdout",
          "text": [
            "Image Labels 3\n"
          ]
        },
        {
          "output_type": "stream",
          "name": "stderr",
          "text": [
            "100%|██████████| 26/26 [00:00<00:00, 173.42it/s]\n"
          ]
        },
        {
          "output_type": "stream",
          "name": "stdout",
          "text": [
            "Image Labels 4\n"
          ]
        },
        {
          "output_type": "stream",
          "name": "stderr",
          "text": [
            "100%|██████████| 20/20 [00:00<00:00, 42.64it/s]\n"
          ]
        },
        {
          "output_type": "stream",
          "name": "stdout",
          "text": [
            "************ Gender -- Male ************ \n",
            "Image Labels 0\n"
          ]
        },
        {
          "output_type": "stream",
          "name": "stderr",
          "text": [
            "100%|██████████| 27/27 [00:00<00:00, 161.42it/s]\n"
          ]
        },
        {
          "output_type": "stream",
          "name": "stdout",
          "text": [
            "Image Labels 1\n"
          ]
        },
        {
          "output_type": "stream",
          "name": "stderr",
          "text": [
            "100%|██████████| 25/25 [00:00<00:00, 150.86it/s]\n"
          ]
        },
        {
          "output_type": "stream",
          "name": "stdout",
          "text": [
            "Image Labels 2\n"
          ]
        },
        {
          "output_type": "stream",
          "name": "stderr",
          "text": [
            "100%|██████████| 25/25 [00:00<00:00, 105.22it/s]\n"
          ]
        },
        {
          "output_type": "stream",
          "name": "stdout",
          "text": [
            "Image Labels 3\n"
          ]
        },
        {
          "output_type": "stream",
          "name": "stderr",
          "text": [
            "100%|██████████| 25/25 [00:00<00:00, 155.67it/s]\n"
          ]
        },
        {
          "output_type": "stream",
          "name": "stdout",
          "text": [
            "Image Labels 4\n"
          ]
        },
        {
          "output_type": "stream",
          "name": "stderr",
          "text": [
            "100%|██████████| 21/21 [00:00<00:00, 46.43it/s]\n"
          ]
        },
        {
          "output_type": "stream",
          "name": "stdout",
          "text": [
            "************  Age -- Children ************ \n",
            "Image Labels 0\n"
          ]
        },
        {
          "output_type": "stream",
          "name": "stderr",
          "text": [
            "100%|██████████| 25/25 [00:00<00:00, 204.76it/s]\n"
          ]
        },
        {
          "output_type": "stream",
          "name": "stdout",
          "text": [
            "Image Labels 1\n"
          ]
        },
        {
          "output_type": "stream",
          "name": "stderr",
          "text": [
            "100%|██████████| 25/25 [00:00<00:00, 117.59it/s]\n"
          ]
        },
        {
          "output_type": "stream",
          "name": "stdout",
          "text": [
            "Image Labels 2\n"
          ]
        },
        {
          "output_type": "stream",
          "name": "stderr",
          "text": [
            "100%|██████████| 26/26 [00:00<00:00, 145.04it/s]\n"
          ]
        },
        {
          "output_type": "stream",
          "name": "stdout",
          "text": [
            "Image Labels 3\n"
          ]
        },
        {
          "output_type": "stream",
          "name": "stderr",
          "text": [
            "100%|██████████| 25/25 [00:00<00:00, 136.41it/s]\n"
          ]
        },
        {
          "output_type": "stream",
          "name": "stdout",
          "text": [
            "Image Labels 4\n"
          ]
        },
        {
          "output_type": "stream",
          "name": "stderr",
          "text": [
            "100%|██████████| 8/8 [00:00<00:00, 94.69it/s]\n"
          ]
        },
        {
          "output_type": "stream",
          "name": "stdout",
          "text": [
            "************  Age -- Young ************ \n",
            "Image Labels 0\n"
          ]
        },
        {
          "output_type": "stream",
          "name": "stderr",
          "text": [
            "100%|██████████| 25/25 [00:00<00:00, 199.68it/s]\n"
          ]
        },
        {
          "output_type": "stream",
          "name": "stdout",
          "text": [
            "Image Labels 1\n"
          ]
        },
        {
          "output_type": "stream",
          "name": "stderr",
          "text": [
            "100%|██████████| 26/26 [00:00<00:00, 196.99it/s]\n"
          ]
        },
        {
          "output_type": "stream",
          "name": "stdout",
          "text": [
            "Image Labels 2\n"
          ]
        },
        {
          "output_type": "stream",
          "name": "stderr",
          "text": [
            "100%|██████████| 25/25 [00:00<00:00, 141.58it/s]\n"
          ]
        },
        {
          "output_type": "stream",
          "name": "stdout",
          "text": [
            "Image Labels 3\n"
          ]
        },
        {
          "output_type": "stream",
          "name": "stderr",
          "text": [
            "100%|██████████| 26/26 [00:00<00:00, 126.35it/s]\n"
          ]
        },
        {
          "output_type": "stream",
          "name": "stdout",
          "text": [
            "Image Labels 4\n"
          ]
        },
        {
          "output_type": "stream",
          "name": "stderr",
          "text": [
            "100%|██████████| 49/49 [00:00<00:00, 151.77it/s]\n"
          ]
        },
        {
          "output_type": "stream",
          "name": "stdout",
          "text": [
            "************  Age -- Old ************ \n",
            "Image Labels 0\n"
          ]
        },
        {
          "output_type": "stream",
          "name": "stderr",
          "text": [
            "100%|██████████| 25/25 [00:00<00:00, 160.73it/s]\n"
          ]
        },
        {
          "output_type": "stream",
          "name": "stdout",
          "text": [
            "Image Labels 1\n"
          ]
        },
        {
          "output_type": "stream",
          "name": "stderr",
          "text": [
            "100%|██████████| 27/27 [00:00<00:00, 239.88it/s]\n"
          ]
        },
        {
          "output_type": "stream",
          "name": "stdout",
          "text": [
            "Image Labels 2\n"
          ]
        },
        {
          "output_type": "stream",
          "name": "stderr",
          "text": [
            "100%|██████████| 24/24 [00:00<00:00, 154.81it/s]\n"
          ]
        },
        {
          "output_type": "stream",
          "name": "stdout",
          "text": [
            "Image Labels 3\n"
          ]
        },
        {
          "output_type": "stream",
          "name": "stderr",
          "text": [
            "100%|██████████| 26/26 [00:00<00:00, 145.45it/s]\n"
          ]
        },
        {
          "output_type": "stream",
          "name": "stdout",
          "text": [
            "Image Labels 4\n"
          ]
        },
        {
          "output_type": "stream",
          "name": "stderr",
          "text": [
            "100%|██████████| 17/17 [00:00<00:00, 137.39it/s]\n"
          ]
        }
      ],
      "source": [
        "print(\"************ Gender -- Female ************ \")\n",
        "mask_female_data = []\n",
        "mask_female_data = load_data(mask_female_data, female_cloth_mask_dir, 0)\n",
        "mask_female_data = load_data(mask_female_data, female_surgical_dir , 1)\n",
        "mask_female_data = load_data(mask_female_data, female_ffp2_dir,  2)\n",
        "mask_female_data = load_data(mask_female_data, female_nomask_dir, 3)\n",
        "mask_female_data = load_data(mask_female_data, female_ffp2valve_dir, 4)\n",
        "\n",
        "print(\"************ Gender -- Male ************ \")\n",
        "mask_male_data = []\n",
        "mask_male_data = load_data(mask_male_data, male_cloth_mask_dir , 0)\n",
        "mask_male_data = load_data(mask_male_data, male_surgical_dir, 1)\n",
        "mask_male_data = load_data(mask_male_data, male_ffp2_dir, 2)\n",
        "mask_male_data = load_data(mask_male_data, male_nomask_dir, 3)\n",
        "mask_male_data = load_data(mask_male_data, male_ffp2valve_dir, 4)\n",
        "\n",
        "print(\"************  Age -- Children ************ \")\n",
        "mask_children_data = []\n",
        "mask_children_data = load_data(mask_children_data, children_cloth_mask_dir , 0)\n",
        "mask_children_data = load_data(mask_children_data, children_surgical_dir, 1)\n",
        "mask_children_data = load_data(mask_children_data, children_ffp2_dir, 2)\n",
        "mask_children_data = load_data(mask_children_data, children_nomask_dir, 3)\n",
        "mask_children_data = load_data(mask_children_data, children_ffp2valve_dir, 4)\n",
        "\n",
        "print(\"************  Age -- Young ************ \")\n",
        "mask_young_data = []\n",
        "mask_young_data = load_data(mask_young_data, young_cloth_mask_dir , 0)\n",
        "mask_young_data = load_data(mask_young_data, young_surgical_dir, 1)\n",
        "mask_young_data = load_data(mask_young_data, young_ffp2_dir, 2)\n",
        "mask_young_data = load_data(mask_young_data, young_nomask_dir, 3)\n",
        "mask_young_data = load_data(mask_young_data, young_ffp2valve_dir, 4)\n",
        "\n",
        "\n",
        "print(\"************  Age -- Old ************ \")\n",
        "mask_old_data = []\n",
        "mask_old_data = load_data(mask_old_data, old_cloth_mask_dir , 0)\n",
        "mask_old_data = load_data(mask_old_data, old_surgical_dir, 1)\n",
        "mask_old_data = load_data(mask_old_data, old_ffp2_dir, 2)\n",
        "mask_old_data = load_data(mask_old_data, old_nomask_dir, 3)\n",
        "mask_old_data = load_data(mask_old_data, old_ffp2valve_dir, 4)\n",
        "\n",
        "\n",
        "\n",
        "\n",
        "\n"
      ]
    },
    {
      "cell_type": "markdown",
      "metadata": {
        "id": "fZsI9Iyzs-eM"
      },
      "source": [
        "### Calling each function"
      ]
    },
    {
      "cell_type": "code",
      "execution_count": null,
      "metadata": {
        "id": "UQ-jg_5s3Ht0"
      },
      "outputs": [],
      "source": [
        "data_classes = os.listdir(root_directory)\n",
        "print(\"Categories and their labels:\")\n",
        "data_labels = map_image_with_label(data_classes)    \n",
        "print(\"Loading each image and mapping it to its label...\")      \n",
        "image_data = create_image_numpy_array(data_classes, root_directory, data_labels)\n",
        "print(\"Shuffled and saved data...\")\n",
        "shuffle_and_save(image_data, saved_converted_image)\n",
        "print(\"loaded data to train and test loader...\")\n"
      ]
    },
    {
      "cell_type": "markdown",
      "source": [
        "**Function to load the testing data**"
      ],
      "metadata": {
        "id": "Sew0EPXcr_-h"
      }
    },
    {
      "cell_type": "code",
      "execution_count": 32,
      "metadata": {
        "id": "Be2p3Z7mdKSG"
      },
      "outputs": [],
      "source": [
        "def testing_dataset_loader(image_data):\n",
        "\n",
        "  np.random.shuffle(image_data)\n",
        "\n",
        "  print(\"Loaded Data\")\n",
        "  loaded_dataset = NormalizingDataset(image_data)\n",
        "\n",
        "  return loaded_dataset"
      ]
    },
    {
      "cell_type": "markdown",
      "source": [
        "Loading data "
      ],
      "metadata": {
        "id": "0Crbxj_8wWrj"
      }
    },
    {
      "cell_type": "code",
      "execution_count": 33,
      "metadata": {
        "id": "-WEt9KW-dSLp",
        "colab": {
          "base_uri": "https://localhost:8080/"
        },
        "outputId": "9c755f89-e279-49ba-e0f3-3325d092b5dd"
      },
      "outputs": [
        {
          "output_type": "stream",
          "name": "stdout",
          "text": [
            "********** Mask worn by Female**********\n",
            "Loaded Data\n",
            "********** Mask worn by Male**********\n",
            "Loaded Data\n",
            "********** Mask worn by young**********\n",
            "Loaded Data\n",
            "********** Mask worn by children**********\n",
            "Loaded Data\n",
            "********** Mask worn by old**********\n",
            "Loaded Data\n"
          ]
        }
      ],
      "source": [
        "print(\"********** Mask worn by Female**********\")\n",
        "mask_female_test = testing_dataset_loader(mask_female_data)\n",
        "print(\"********** Mask worn by Male**********\")\n",
        "mask_male_test = testing_dataset_loader(mask_male_data)\n",
        "print(\"********** Mask worn by young**********\")\n",
        "mask_young_test = testing_dataset_loader(mask_young_data)\n",
        "print(\"********** Mask worn by children**********\")\n",
        "mask_children_test = testing_dataset_loader(mask_children_data)\n",
        "print(\"********** Mask worn by old**********\")\n",
        "mask_old_test = testing_dataset_loader(mask_old_data)\n"
      ]
    },
    {
      "cell_type": "markdown",
      "metadata": {
        "id": "9lB_-c6mtNzw"
      },
      "source": [
        "## Face Mask Detection Function - using K-fold"
      ]
    },
    {
      "cell_type": "code",
      "execution_count": 29,
      "metadata": {
        "id": "HsjqMfrj_jFg"
      },
      "outputs": [],
      "source": [
        "def FaceMaskDetection():\n",
        "  \n",
        "  if os.path.exists('/content/modelCNN'): \n",
        "    print(\"Loading the saved model\")\n",
        "    model = torch.load('/content/modelCNN')\n",
        "  else:\n",
        "        loaded_dataset = dataset_loader(saved_converted_image )\n",
        "        kfold = KFold(n_splits=10, shuffle=True, random_state=None)\n",
        "        fold_value = 1\n",
        "        for training_id, testing_id in kfold.split(loaded_dataset):\n",
        "          print(\"Fold Number:\", fold_value)\n",
        "          training_dataset = Subset(loaded_dataset, training_id)\n",
        "          testing_dataset = Subset(loaded_dataset, testing_id)\n",
        "          train_loader = DataLoader(training_dataset, batch_size=64, num_workers=0, shuffle=True)\n",
        "          test_loader = DataLoader(testing_dataset, batch_size=64, num_workers=0, shuffle=True)\n",
        "          model = train_model(train_loader, test_loader, 10) # epoch number\n",
        "          fold_value+=1\n",
        "          \n",
        "        torch.save(model, \"modelCNN\")\n",
        "        \n",
        "    \n",
        "        create_confusion_matrix(model, \"Training\", train_loader, data_classes)\n",
        "        create_confusion_matrix(model, \"Testing\", test_loader, data_classes)\n",
        "  \n",
        "  print(\"Predicting the labels from sample images:\")\n",
        "  predict_image(sample_image_path, model, data_classes)\n",
        "  \n",
        "  print(\"------------Generate Matrix of Male------------\")\n",
        "  mask_male = DataLoader(mask_male_test, batch_size=64, num_workers=0, shuffle=True)\n",
        "  create_confusion_matrix(model, \"Mask Male Image\", mask_male, data_classes)\n",
        "\n",
        "  print(\"------------Generate Matrix of Female------------\")\n",
        "  mask_female = DataLoader(mask_female_test, batch_size=64, num_workers=0, shuffle=True)\n",
        "  create_confusion_matrix(model, \"Mask Female Image\", mask_female, data_classes)\n",
        "\n",
        "  print(\"------------Generate Matrix of Children------------\")\n",
        "  mask_children = DataLoader(mask_children_test, batch_size=64, num_workers=0, shuffle=True)\n",
        "  create_confusion_matrix(model, \"Mask Children Image\", mask_children, data_classes)\n",
        "\n",
        "  print(\"------------Generate Matrix of Young------------\")\n",
        "  mask_young = DataLoader(mask_young_test, batch_size=64, num_workers=0, shuffle=True)\n",
        "  create_confusion_matrix(model, \"Mask Young Image\", mask_young, data_classes)\n",
        "\n",
        "  print(\"------------Generate Matrix of Old------------\")\n",
        "  mask_old = DataLoader(mask_old_test, batch_size=64, num_workers=0, shuffle=True)\n",
        "  create_confusion_matrix(model, \"Mask Old Image\", mask_old, data_classes)\n",
        "\n",
        "    \n",
        "    "
      ]
    },
    {
      "cell_type": "code",
      "execution_count": 30,
      "metadata": {
        "id": "VefoF_fQlXer"
      },
      "outputs": [],
      "source": [
        "warnings.filterwarnings('ignore')"
      ]
    },
    {
      "cell_type": "code",
      "execution_count": null,
      "metadata": {
        "id": "sc93bZcPtK4I",
        "colab": {
          "base_uri": "https://localhost:8080/",
          "height": 1000
        },
        "outputId": "8a3dff9c-6cfc-4d8e-ff68-6f187fbb6ca1"
      },
      "outputs": [
        {
          "output_type": "stream",
          "name": "stdout",
          "text": [
            "2073\n",
            "Fold Number: 1\n",
            "Epoch 1/10, Loss--> 0.7888, Accuracy--> 55.56%\n",
            "Epoch 2/10, Loss--> 1.2051, Accuracy--> 44.44%\n",
            "Epoch 3/10, Loss--> 0.5651, Accuracy--> 55.56%\n",
            "Epoch 4/10, Loss--> 0.3657, Accuracy--> 100.00%\n",
            "Epoch 5/10, Loss--> 0.3570, Accuracy--> 77.78%\n",
            "Epoch 6/10, Loss--> 0.3375, Accuracy--> 77.78%\n",
            "Epoch 7/10, Loss--> 0.3953, Accuracy--> 66.67%\n",
            "Epoch 8/10, Loss--> 0.5219, Accuracy--> 66.67%\n",
            "Epoch 9/10, Loss--> 0.5275, Accuracy--> 66.67%\n",
            "Epoch 10/10, Loss--> 0.3482, Accuracy--> 66.67%\n",
            "Fold Number: 2\n",
            "Epoch 1/10, Loss--> 0.7092, Accuracy--> 66.67%\n",
            "Epoch 2/10, Loss--> 0.5746, Accuracy--> 55.56%\n",
            "Epoch 3/10, Loss--> 0.7513, Accuracy--> 77.78%\n",
            "Epoch 4/10, Loss--> 0.7861, Accuracy--> 55.56%\n",
            "Epoch 5/10, Loss--> 0.5832, Accuracy--> 66.67%\n",
            "Epoch 6/10, Loss--> 0.4582, Accuracy--> 55.56%\n",
            "Epoch 7/10, Loss--> 0.3003, Accuracy--> 77.78%\n",
            "Epoch 8/10, Loss--> 0.1361, Accuracy--> 88.89%\n",
            "Epoch 9/10, Loss--> 0.2590, Accuracy--> 66.67%\n",
            "Epoch 10/10, Loss--> 0.2873, Accuracy--> 77.78%\n",
            "Fold Number: 3\n",
            "Epoch 1/10, Loss--> 0.6504, Accuracy--> 55.56%\n",
            "Epoch 2/10, Loss--> 0.9378, Accuracy--> 66.67%\n",
            "Epoch 3/10, Loss--> 0.4772, Accuracy--> 55.56%\n",
            "Epoch 4/10, Loss--> 0.2753, Accuracy--> 88.89%\n",
            "Epoch 5/10, Loss--> 0.5790, Accuracy--> 55.56%\n",
            "Epoch 6/10, Loss--> 0.3983, Accuracy--> 77.78%\n",
            "Epoch 7/10, Loss--> 0.2009, Accuracy--> 88.89%\n",
            "Epoch 8/10, Loss--> 0.3801, Accuracy--> 77.78%\n",
            "Epoch 9/10, Loss--> 0.3063, Accuracy--> 88.89%\n",
            "Epoch 10/10, Loss--> 0.3138, Accuracy--> 77.78%\n",
            "Fold Number: 4\n",
            "Epoch 1/10, Loss--> 0.8063, Accuracy--> 60.00%\n",
            "Epoch 2/10, Loss--> 0.7052, Accuracy--> 80.00%\n",
            "Epoch 3/10, Loss--> 0.4896, Accuracy--> 80.00%\n",
            "Epoch 4/10, Loss--> 0.5310, Accuracy--> 80.00%\n",
            "Epoch 5/10, Loss--> 0.4117, Accuracy--> 80.00%\n",
            "Epoch 6/10, Loss--> 0.4393, Accuracy--> 60.00%\n",
            "Epoch 7/10, Loss--> 0.3494, Accuracy--> 70.00%\n",
            "Epoch 8/10, Loss--> 0.3979, Accuracy--> 70.00%\n",
            "Epoch 9/10, Loss--> 0.6265, Accuracy--> 80.00%\n",
            "Epoch 10/10, Loss--> 0.3126, Accuracy--> 70.00%\n",
            "Fold Number: 5\n",
            "Epoch 1/10, Loss--> 1.0958, Accuracy--> 50.00%\n",
            "Epoch 2/10, Loss--> 0.5594, Accuracy--> 70.00%\n",
            "Epoch 3/10, Loss--> 1.6454, Accuracy--> 40.00%\n",
            "Epoch 4/10, Loss--> 0.5203, Accuracy--> 80.00%\n",
            "Epoch 5/10, Loss--> 1.1984, Accuracy--> 50.00%\n",
            "Epoch 6/10, Loss--> 0.4959, Accuracy--> 70.00%\n",
            "Epoch 7/10, Loss--> 0.6918, Accuracy--> 50.00%\n",
            "Epoch 8/10, Loss--> 0.2741, Accuracy--> 80.00%\n",
            "Epoch 9/10, Loss--> 0.3577, Accuracy--> 90.00%\n",
            "Epoch 10/10, Loss--> 0.5085, Accuracy--> 60.00%\n",
            "Fold Number: 6\n",
            "Epoch 1/10, Loss--> 0.9874, Accuracy--> 50.00%\n",
            "Epoch 2/10, Loss--> 0.5290, Accuracy--> 90.00%\n",
            "Epoch 3/10, Loss--> 0.6130, Accuracy--> 70.00%\n",
            "Epoch 4/10, Loss--> 0.4462, Accuracy--> 80.00%\n",
            "Epoch 5/10, Loss--> 0.3001, Accuracy--> 90.00%\n",
            "Epoch 6/10, Loss--> 0.3555, Accuracy--> 70.00%\n",
            "Epoch 7/10, Loss--> 0.3615, Accuracy--> 70.00%\n",
            "Epoch 8/10, Loss--> 0.3360, Accuracy--> 70.00%\n",
            "Epoch 9/10, Loss--> 0.4390, Accuracy--> 70.00%\n",
            "Epoch 10/10, Loss--> 0.6304, Accuracy--> 60.00%\n",
            "Fold Number: 7\n",
            "Epoch 1/10, Loss--> 1.2678, Accuracy--> 30.00%\n",
            "Epoch 2/10, Loss--> 0.6141, Accuracy--> 70.00%\n",
            "Epoch 3/10, Loss--> 0.5093, Accuracy--> 80.00%\n",
            "Epoch 4/10, Loss--> 0.3666, Accuracy--> 80.00%\n",
            "Epoch 5/10, Loss--> 0.2223, Accuracy--> 80.00%\n",
            "Epoch 6/10, Loss--> 0.3389, Accuracy--> 70.00%\n",
            "Epoch 7/10, Loss--> 0.3949, Accuracy--> 80.00%\n",
            "Epoch 8/10, Loss--> 0.4611, Accuracy--> 70.00%\n",
            "Epoch 9/10, Loss--> 0.3016, Accuracy--> 80.00%\n",
            "Epoch 10/10, Loss--> 0.2190, Accuracy--> 80.00%\n",
            "Fold Number: 8\n",
            "Epoch 1/10, Loss--> 0.7584, Accuracy--> 80.00%\n",
            "Epoch 2/10, Loss--> 0.3651, Accuracy--> 80.00%\n",
            "Epoch 3/10, Loss--> 0.4232, Accuracy--> 70.00%\n",
            "Epoch 4/10, Loss--> 0.5124, Accuracy--> 80.00%\n",
            "Epoch 5/10, Loss--> 0.4720, Accuracy--> 80.00%\n",
            "Epoch 6/10, Loss--> 0.2864, Accuracy--> 80.00%\n",
            "Epoch 7/10, Loss--> 0.4017, Accuracy--> 70.00%\n",
            "Epoch 8/10, Loss--> 1.2526, Accuracy--> 60.00%\n",
            "Epoch 9/10, Loss--> 0.3288, Accuracy--> 90.00%\n",
            "Epoch 10/10, Loss--> 0.4348, Accuracy--> 70.00%\n",
            "Fold Number: 9\n",
            "Epoch 1/10, Loss--> 1.2786, Accuracy--> 40.00%\n",
            "Epoch 2/10, Loss--> 0.6600, Accuracy--> 70.00%\n",
            "Epoch 3/10, Loss--> 0.5288, Accuracy--> 80.00%\n",
            "Epoch 4/10, Loss--> 0.6348, Accuracy--> 50.00%\n",
            "Epoch 5/10, Loss--> 0.1962, Accuracy--> 90.00%\n",
            "Epoch 6/10, Loss--> 0.5170, Accuracy--> 70.00%\n",
            "Epoch 7/10, Loss--> 0.3311, Accuracy--> 80.00%\n",
            "Epoch 8/10, Loss--> 0.4226, Accuracy--> 70.00%\n",
            "Epoch 9/10, Loss--> 0.3310, Accuracy--> 90.00%\n",
            "Epoch 10/10, Loss--> 0.1516, Accuracy--> 90.00%\n",
            "Fold Number: 10\n",
            "Epoch 1/10, Loss--> 0.9789, Accuracy--> 50.00%\n",
            "Epoch 2/10, Loss--> 0.3959, Accuracy--> 90.00%\n",
            "Epoch 3/10, Loss--> 0.4036, Accuracy--> 80.00%\n",
            "Epoch 4/10, Loss--> 0.5065, Accuracy--> 70.00%\n",
            "Epoch 5/10, Loss--> 0.5157, Accuracy--> 60.00%\n",
            "Epoch 6/10, Loss--> 0.2230, Accuracy--> 90.00%\n",
            "Epoch 7/10, Loss--> 0.3157, Accuracy--> 90.00%\n",
            "Epoch 8/10, Loss--> 0.3089, Accuracy--> 80.00%\n",
            "Epoch 9/10, Loss--> 0.4085, Accuracy--> 70.00%\n",
            "Epoch 10/10, Loss--> 0.4735, Accuracy--> 60.00%\n",
            "Training Classification Report: \n",
            "              precision    recall  f1-score   support\n",
            "\n",
            "           0       1.00      0.99      1.00       356\n",
            "           1       0.55      0.60      0.57       343\n",
            "           2       0.63      0.59      0.61       397\n",
            "           3       1.00      1.00      1.00       390\n",
            "           4       1.00      0.99      1.00       380\n",
            "\n",
            "    accuracy                           0.83      1866\n",
            "   macro avg       0.83      0.83      0.83      1866\n",
            "weighted avg       0.84      0.83      0.84      1866\n",
            "\n",
            "Training Confusion Matrix: \n"
          ]
        },
        {
          "output_type": "display_data",
          "data": {
            "text/plain": [
              "<Figure size 432x288 with 2 Axes>"
            ],
            "image/png": "[encoded data removed]"
          },
          "metadata": {
            "needs_background": "light"
          }
        },
        {
          "output_type": "stream",
          "name": "stdout",
          "text": [
            "Testing Classification Report: \n",
            "              precision    recall  f1-score   support\n",
            "\n",
            "           0       1.00      1.00      1.00        46\n",
            "           1       0.34      0.41      0.37        37\n",
            "           2       0.41      0.36      0.38        42\n",
            "           3       1.00      0.98      0.99        44\n",
            "           4       1.00      0.97      0.99        38\n",
            "\n",
            "    accuracy                           0.75       207\n",
            "   macro avg       0.75      0.74      0.75       207\n",
            "weighted avg       0.76      0.75      0.76       207\n",
            "\n",
            "Testing Confusion Matrix: \n"
          ]
        },
        {
          "output_type": "display_data",
          "data": {
            "text/plain": [
              "<Figure size 432x288 with 2 Axes>"
            ],
            "image/png": "[encoded data removed]"
          },
          "metadata": {
            "needs_background": "light"
          }
        },
        {
          "output_type": "stream",
          "name": "stdout",
          "text": [
            "------------Generate Matrix of Male------------\n",
            "Mask Male Image Classification Report: \n",
            "              precision    recall  f1-score   support\n",
            "\n",
            "           0       0.11      0.20      0.14        15\n",
            "           1       0.36      0.38      0.37        24\n",
            "           2       0.00      0.00      0.00         7\n",
            "           3       0.72      0.62      0.67        29\n",
            "           4       0.67      0.29      0.41        48\n",
            "\n",
            "    accuracy                           0.36       123\n",
            "   macro avg       0.37      0.30      0.32       123\n",
            "weighted avg       0.51      0.36      0.40       123\n",
            "\n",
            "Mask Male Image Confusion Matrix: \n"
          ]
        },
        {
          "output_type": "display_data",
          "data": {
            "text/plain": [
              "<Figure size 432x288 with 2 Axes>"
            ],
            "image/png": "[encoded data removed]"
          },
          "metadata": {
            "needs_background": "light"
          }
        },
        {
          "output_type": "stream",
          "name": "stdout",
          "text": [
            "------------Generate Matrix of Female------------\n",
            "Mask Female Image Classification Report: \n",
            "              precision    recall  f1-score   support\n",
            "\n",
            "           0       0.04      0.06      0.04        18\n",
            "           1       0.25      0.23      0.24        26\n",
            "           2       0.00      0.00      0.00         4\n",
            "           3       0.69      0.58      0.63        31\n",
            "           4       0.75      0.35      0.48        43\n",
            "\n",
            "    accuracy                           0.33       122\n",
            "   macro avg       0.35      0.24      0.28       122\n",
            "weighted avg       0.50      0.33      0.39       122\n",
            "\n",
            "Mask Female Image Confusion Matrix: \n"
          ]
        },
        {
          "output_type": "display_data",
          "data": {
            "text/plain": [
              "<Figure size 432x288 with 2 Axes>"
            ],
            "image/png": "[encoded data removed]"
          },
          "metadata": {
            "needs_background": "light"
          }
        },
        {
          "output_type": "stream",
          "name": "stdout",
          "text": [
            "------------Generate Matrix of Children------------\n",
            "Mask Children Image Classification Report: \n",
            "              precision    recall  f1-score   support\n",
            "\n",
            "           0       0.04      0.10      0.06        10\n",
            "           1       0.27      0.25      0.26        28\n",
            "           2       0.08      0.22      0.11         9\n",
            "           3       0.58      0.75      0.65        20\n",
            "           4       0.12      0.02      0.04        44\n",
            "\n",
            "    accuracy                           0.23       111\n",
            "   macro avg       0.22      0.27      0.22       111\n",
            "weighted avg       0.23      0.23      0.21       111\n",
            "\n",
            "Mask Children Image Confusion Matrix: \n"
          ]
        },
        {
          "output_type": "display_data",
          "data": {
            "text/plain": [
              "<Figure size 432x288 with 2 Axes>"
            ],
            "image/png": "[encoded data removed]"
          },
          "metadata": {
            "needs_background": "light"
          }
        },
        {
          "output_type": "stream",
          "name": "stdout",
          "text": [
            "------------Generate Matrix of Young------------\n",
            "Mask Young Image Classification Report: \n",
            "              precision    recall  f1-score   support\n",
            "\n",
            "           0       0.12      0.12      0.12        25\n",
            "           1       0.35      0.24      0.29        37\n",
            "           2       0.08      0.15      0.11        13\n",
            "           3       0.73      0.79      0.76        24\n",
            "           4       0.49      0.46      0.48        52\n",
            "\n",
            "    accuracy                           0.38       151\n",
            "   macro avg       0.35      0.35      0.35       151\n",
            "weighted avg       0.40      0.38      0.38       151\n",
            "\n",
            "Mask Young Image Confusion Matrix: \n"
          ]
        },
        {
          "output_type": "display_data",
          "data": {
            "text/plain": [
              "<Figure size 432x288 with 2 Axes>"
            ],
            "image/png": "[encoded data removed]"
          },
          "metadata": {
            "needs_background": "light"
          }
        },
        {
          "output_type": "stream",
          "name": "stdout",
          "text": [
            "------------Generate Matrix of Old------------\n",
            "Mask Old Image Classification Report: \n",
            "              precision    recall  f1-score   support\n",
            "\n",
            "           0       0.12      0.16      0.14        19\n",
            "           1       0.33      0.28      0.31        32\n",
            "           2       0.00      0.00      0.00        13\n",
            "           3       0.81      0.64      0.71        33\n",
            "           4       0.18      0.14      0.15        22\n",
            "\n",
            "    accuracy                           0.30       119\n",
            "   macro avg       0.29      0.24      0.26       119\n",
            "weighted avg       0.37      0.30      0.33       119\n",
            "\n",
            "Mask Old Image Confusion Matrix: \n"
          ]
        },
        {
          "output_type": "display_data",
          "data": {
            "text/plain": [
              "<Figure size 432x288 with 2 Axes>"
            ],
            "image/png": "[encoded data removed]"
          },
          "metadata": {
            "needs_background": "light"
          }
        }
      ],
      "source": [
        "FaceMaskDetection()"
      ]
    }
  ],
  "metadata": {
    "colab": {
      "collapsed_sections": [],
      "name": "Face_mask_detector_AI.ipynb",
      "provenance": []
    },
    "kernelspec": {
      "display_name": "Python 3",
      "name": "python3"
    },
    "language_info": {
      "name": "python"
    }
  },
  "nbformat": 4,
  "nbformat_minor": 0
}